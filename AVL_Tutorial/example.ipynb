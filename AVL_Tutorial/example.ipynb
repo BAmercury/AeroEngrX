{
 "nbformat": 4,
 "nbformat_minor": 2,
 "metadata": {
  "language_info": {
   "name": "python",
   "codemirror_mode": {
    "name": "ipython",
    "version": 3
   },
   "version": "3.7.6-final"
  },
  "orig_nbformat": 2,
  "file_extension": ".py",
  "mimetype": "text/x-python",
  "name": "python",
  "npconvert_exporter": "python",
  "pygments_lexer": "ipython3",
  "version": 3,
  "kernelspec": {
   "name": "python37664bit2186937eea2848028e2da9bf2b670c38",
   "display_name": "Python 3.7.6 64-bit"
  }
 },
 "cells": [
  {
   "cell_type": "markdown",
   "metadata": {},
   "source": [
    "<h1> Python AVL (Athena Vortex Lattice) Tutorial and Demo </h1>\n",
    "\n",
    "This notebook follows the following Youtube tutorial series from Benjamin Kelm:\n",
    "https://www.youtube.com/watch?v=1ReGB8ai_PQ&t=101s\n",
    "\n",
    "To demonstrate the Python AVL Wrapper created by Reno Elmendorp:\n",
    "https://gitlab.com/relmendorp/avlwrapper/-/tree/master\n",
    "\n",
    "Some notes: I did not include the special airfoil definitions Benjamin used. All airfoils used in this example are standard NACA\n"
   ]
  },
  {
   "cell_type": "code",
   "execution_count": 63,
   "metadata": {},
   "outputs": [],
   "source": [
    "%matplotlib inline\n",
    "\n",
    "import json\n",
    "from math import radians, sqrt, tan\n",
    "import avlwrapper as avl\n",
    "import os"
   ]
  },
  {
   "cell_type": "markdown",
   "metadata": {},
   "source": [
    "<h1>The airplane we are modeling (Sketch):<h1>\n",
    "\n",
    "\n",
    "![Sketch](Graphic1.PNG)"
   ]
  },
  {
   "cell_type": "markdown",
   "metadata": {},
   "source": [
    "<h1> Creating the geometry<h1>\n",
    "\n",
    "Some important tips:\n",
    "In AVL, the x-axis is defined rearwards towards tail of airplane. Y axis pointing along right wing. Z axis is pointing out of the screen"
   ]
  },
  {
   "cell_type": "markdown",
   "metadata": {},
   "source": [
    "<h2>Wing Surface: Variable Definitions</h2>\n",
    "The wing surface is broken up into 5 sections. The root, three middle sections, and an end section"
   ]
  },
  {
   "cell_type": "code",
   "execution_count": 23,
   "metadata": {},
   "outputs": [],
   "source": [
    "S_ref = 0.239 # m^2, Wing surface area\n",
    "B_ref = 1.5 # m, Reference Span\n",
    "C_ref = S_ref / B_ref # Wing Reference Chord, area divided by reference span\n",
    "mach_number = 0.0 # Mach number to run analysis at\n",
    "# Moment Reference Location\n",
    "Xref = 0.0\n",
    "YRef = 0.0\n",
    "ZRef = 0.0\n",
    "moment_ref_pt = avl.Point(Xref, YRef, ZRef)\n",
    "\n",
    "# Now start building the Surface\n",
    "Nchord = 12 # Number of chordwise horshoe vortices placed on the surface\n",
    "Cspace = avl.Spacing.cosine # Chordwise vortex spacing Parameter\n",
    "\n",
    "Nspan = 20 # Number of spanwise horshoe vortices placed on the surface\n",
    "Sspace = avl.Spacing.cosine # Spanwise vortex spacing parameter\n",
    "\n",
    "# Reflect the Wing\n",
    "y_duplicate = 0.0 # Reflect about the y=0 plane\n",
    "\n",
    "# Twist angle bias for whole surface\n",
    "twist_angle = 2.0\n",
    "\n",
    "# Translate Bias\n",
    "translate_bias = avl.Point(0.3, 0, 0) # 300 mm from the tip of nose"
   ]
  },
  {
   "cell_type": "markdown",
   "metadata": {},
   "source": [
    "<h2>Wing Root Section</h2>\n",
    "\n",
    "Now we will start building out the sections that make up the wing surface, starting with the root"
   ]
  },
  {
   "cell_type": "code",
   "execution_count": 24,
   "metadata": {},
   "outputs": [],
   "source": [
    "# Start the sections, root chord section\n",
    "\n",
    "# Define the leading edge position\n",
    "wing_root_leading_edge = avl.Point(0.0, 0.0, 0.0)\n",
    "wing_root_chord = 0.180\n",
    "wing_root_angle = 0.0 # no twist\n",
    "\n",
    "# Define what airfoil is used for this section\n",
    "wing_root_airfoil = avl.NacaAirfoil('2412')\n",
    "\n",
    "# Define a control surface\n",
    "flap_cgain = 1.0 # No mixing of controls\n",
    "flap_xhinge = 0.72 # Relative location of the hinge\n",
    "flap_sgndup = 1.0 # Duplicate sign\n",
    "flap_hingevec = avl.Point(0.0, 1.0, 0.0)# Axis which the surface rotates about\n",
    "\n",
    "flap = avl.Control(\n",
    "    name='flap',\n",
    "    gain=flap_cgain,\n",
    "    x_hinge=flap_xhinge,\n",
    "    duplicate_sign=flap_sgndup,\n",
    "    hinge_vector=flap_hingevec\n",
    ")\n",
    "# Now put together the section\n",
    "wing_root_section = avl.Section(\n",
    "    leading_edge_point= wing_root_leading_edge,\n",
    "    chord=wing_root_chord,\n",
    "    airfoil=wing_root_airfoil,\n",
    "    controls=[flap]\n",
    ")"
   ]
  },
  {
   "cell_type": "markdown",
   "metadata": {},
   "source": [
    "<h2> Section 2 of the Wing (Aileron) </h2>"
   ]
  },
  {
   "cell_type": "code",
   "execution_count": 25,
   "metadata": {},
   "outputs": [],
   "source": [
    "# Start the sections, Section 2\n",
    "# Define the leading edge position\n",
    "section2_leading_edge = avl.Point(0.0, 0.450, 0.0)\n",
    "section2_chord = 0.180\n",
    "section2_angle = 0.0 # no twist\n",
    "\n",
    "# Define what airfoil is used for this section\n",
    "section2_airfoil = avl.NacaAirfoil('2412')\n",
    "\n",
    "# Define a control surface\n",
    "flap2_cgain = 1.0 # No mixing of controls\n",
    "flap2_xhinge = 0.72 # Relative location of the hinge\n",
    "flap2_sgndup = 1.0 # Duplicate sign\n",
    "flap2_hingevec = avl.Point(0.0, 1.0, 0.0) # Axis which the surface rotates about\n",
    "\n",
    "# Another flap\n",
    "flap2 = avl.Control(\n",
    "    name='flap',\n",
    "    gain=flap2_cgain,\n",
    "    x_hinge=flap2_xhinge,\n",
    "    duplicate_sign=flap2_sgndup,\n",
    "    hinge_vector=flap2_hingevec\n",
    ")\n",
    "\n",
    "# Define a control surface (Aileron)\n",
    "ail_cgain = 1.0 # No mixing of controls\n",
    "ail_xhinge = 0.72 # Relative location of the hinge\n",
    "ail_sgndup = -1.0 # Duplicate sign, ailerons deflect anti-symmetrically\n",
    "ail_hingevec = avl.Point(0.0, 1.0, 0.0) # Axis which the surface rotates about\n",
    "\n",
    "ail = avl.Control(\n",
    "    name='aileron',\n",
    "    gain=ail_cgain,\n",
    "    x_hinge=ail_xhinge,\n",
    "    duplicate_sign=ail_sgndup,\n",
    "    hinge_vector=ail_hingevec\n",
    ")\n",
    "# Now put together the section\n",
    "section2 = avl.Section(\n",
    "    leading_edge_point= section2_leading_edge,\n",
    "    chord=section2_chord,\n",
    "    airfoil=section2_airfoil,\n",
    "    controls=[flap2, ail]\n",
    ")"
   ]
  },
  {
   "cell_type": "markdown",
   "metadata": {},
   "source": [
    "<h2> Section 3 of the Wing: Aileron (cont.) </h2>"
   ]
  },
  {
   "cell_type": "code",
   "execution_count": 26,
   "metadata": {},
   "outputs": [],
   "source": [
    "# Start the sections, Section 3\n",
    "# Define the leading edge position\n",
    "section3_leading_edge = avl.Point(0.060, 0.650, 0.0)\n",
    "section3_chord = 0.120\n",
    "section3_angle = 0.0 # no twist\n",
    "\n",
    "# Define what airfoil is used for this section\n",
    "section3_airfoil = avl.NacaAirfoil('2412')\n",
    "\n",
    "# Define a control surface (Aileron)\n",
    "ail2_cgain = 1.0 # No mixing of controls\n",
    "ail2_xhinge = 0.72 # Relative location of the hinge\n",
    "ail2_sgndup = -1.0 # Duplicate sign, ailerons deflect anti-symmetrically\n",
    "ail2_hingevec = avl.Point(0.0, 1.0, 0.0) # Axis which the surface rotates about\n",
    "\n",
    "ail2 = avl.Control(\n",
    "    name='aileron',\n",
    "    gain=ail2_cgain,\n",
    "    x_hinge=ail2_xhinge,\n",
    "    duplicate_sign=ail2_sgndup,\n",
    "    hinge_vector=ail2_hingevec\n",
    ")\n",
    "\n",
    "# Now put together the section\n",
    "section3 = avl.Section(\n",
    "    leading_edge_point= section3_leading_edge,\n",
    "    chord=section3_chord,\n",
    "    airfoil=section3_airfoil,\n",
    "    controls=[ail2]\n",
    ")"
   ]
  },
  {
   "cell_type": "markdown",
   "metadata": {},
   "source": [
    "<h2> Section 4 of the Wing: End Section </h2>"
   ]
  },
  {
   "cell_type": "code",
   "execution_count": 27,
   "metadata": {},
   "outputs": [],
   "source": [
    "# Section 4: End Section\n",
    "# Define the leading edge position\n",
    "section4_leading_edge = avl.Point(0.130, 0.750, 0.0)\n",
    "section4_chord = 0.050\n",
    "section4_angle = 0.0 # no twist\n",
    "\n",
    "# Define what airfoil is used for this section\n",
    "section4_airfoil = avl.NacaAirfoil('2412')\n",
    "\n",
    "# Now put together the section\n",
    "section4 = avl.Section(\n",
    "    leading_edge_point= section4_leading_edge,\n",
    "    chord=section4_chord,\n",
    "    airfoil=section4_airfoil\n",
    ")"
   ]
  },
  {
   "cell_type": "markdown",
   "metadata": {},
   "source": [
    "<h2> Assemble Wing Surface Object </h2>"
   ]
  },
  {
   "cell_type": "code",
   "execution_count": 28,
   "metadata": {},
   "outputs": [],
   "source": [
    "wing = avl.Surface(\n",
    "    name='wing',\n",
    "    n_chordwise=Nchord,\n",
    "    chord_spacing=Cspace,\n",
    "    n_spanwise=Nspan,\n",
    "    span_spacing=Sspace,\n",
    "    y_duplicate=y_duplicate,\n",
    "    sections=[wing_root_section, section2, section3, section4],\n",
    "    translation=translate_bias, \n",
    "    angle=twist_angle,\n",
    ")"
   ]
  },
  {
   "cell_type": "markdown",
   "metadata": {},
   "source": [
    "<h2>Horizontal Stabilizer Surface: Variable Definitions and Surface Assembly</h2>\n",
    "We move onto the Horizontal Stabilizer (HT) Surface. This section of the code is enclosed in one block:"
   ]
  },
  {
   "cell_type": "code",
   "execution_count": 29,
   "metadata": {},
   "outputs": [],
   "source": [
    "ht_Nchord = 8.0\n",
    "ht_Cspace = avl.Spacing.cosine\n",
    "ht_Nspan = 5.0\n",
    "ht_Sspace = avl.Spacing.cosine\n",
    "ht_y_duplicate = 0.0\n",
    "ht_angle = -2.0 # Degrees\n",
    "# Translate local coordinate system to leading edge of ht\n",
    "ht_translate_bias = avl.Point(1.0, 0, 0.175) \n",
    "\n",
    "\n",
    "# Begin the first section (Inner)\n",
    "ht_section1_leading_edge = avl.Point(0.0, 0.0, 0.0)\n",
    "ht_section1_chord = 0.1\n",
    "ht_section1_angle = 0.0\n",
    "\n",
    "ht_section1_airfoil = avl.NacaAirfoil('0010')\n",
    "\n",
    "# Define elevator\n",
    "ele_cgain = 1.0 # No mixing of controls\n",
    "ele_xhinge = 0.7 # Relative location of the hinge\n",
    "ele_sgndup = 1.0 # Duplicate sign, ailerons deflect anti-symmetrically\n",
    "ele_hingevec = avl.Point(0.0, 1.0, 0.0) # Axis which the surface rotates about\n",
    "ele = avl.Control(\n",
    "    name='elevator',\n",
    "    gain=ele_cgain,\n",
    "    x_hinge=ele_xhinge,\n",
    "    duplicate_sign=ele_sgndup,\n",
    "    hinge_vector=ele_hingevec\n",
    ")\n",
    "\n",
    "# Now put together the section\n",
    "ht_section1 = avl.Section(\n",
    "    leading_edge_point= ht_section1_leading_edge,\n",
    "    chord=ht_section1_chord,\n",
    "    airfoil=ht_section1_airfoil,\n",
    "    controls=[ele]\n",
    ")\n",
    "\n",
    "# Section 2 (Middle)\n",
    "ht_section2_leading_edge = avl.Point(0.0, 0.220, 0.0)\n",
    "ht_section2_chord = 0.100\n",
    "ht_section2_angle = 0.0\n",
    "\n",
    "ht_section2_airfoil = avl.NacaAirfoil('0010')\n",
    "# Now put together the section\n",
    "ht_section2 = avl.Section(\n",
    "    leading_edge_point= ht_section2_leading_edge,\n",
    "    chord=ht_section2_chord,\n",
    "    airfoil=ht_section2_airfoil,\n",
    "    controls=[ele]\n",
    ")\n",
    "\n",
    "# Section 3 (End Section)\n",
    "ht_section3_leading_edge = avl.Point(0.070, 0.3, 0.0)\n",
    "ht_section3_chord = 0.030\n",
    "ht_section3_angle = 0.0\n",
    "\n",
    "ht_section3_airfoil = avl.NacaAirfoil('0010')\n",
    "# Now put together the section\n",
    "ht_section3 = avl.Section(\n",
    "    leading_edge_point= ht_section3_leading_edge,\n",
    "    chord=ht_section3_chord,\n",
    "    airfoil=ht_section3_airfoil,\n",
    "    controls=[ele]\n",
    ")\n",
    "\n",
    "# Assemble HT\n",
    "ht = avl.Surface(\n",
    "    name='horizontal_tail',\n",
    "    n_chordwise=ht_Nchord,\n",
    "    chord_spacing=ht_Cspace,\n",
    "    n_spanwise=ht_Nspan,\n",
    "    span_spacing=ht_Sspace,\n",
    "    y_duplicate=ht_y_duplicate,\n",
    "    sections=[ht_section1, ht_section2, ht_section3],\n",
    "    translation=ht_translate_bias, \n",
    "    angle=ht_angle,\n",
    ")\n"
   ]
  },
  {
   "cell_type": "markdown",
   "metadata": {},
   "source": [
    "<h2>Rudder Surface: Variable Definition and Surface Assembly </h2>"
   ]
  },
  {
   "cell_type": "code",
   "execution_count": 30,
   "metadata": {},
   "outputs": [],
   "source": [
    "# Modeling the Rudder/V-Stab now\n",
    "vt_Nchord = 8.0\n",
    "vt_Cspace = avl.Spacing.cosine\n",
    "vt_Nspan = 10.0\n",
    "vt_Sspace = avl.Spacing.cosine\n",
    "# Translate local coordinate system to leading edge of vt\n",
    "vt_translate_bias = avl.Point(0.950, 0, 0.0) \n",
    "\n",
    "vt_y_duplicate=0.0\n",
    "\n",
    "# Begin the first section of vt (lower)\n",
    "vt_section1_leading_edge = avl.Point(0.0, 0.0, 0.0)\n",
    "vt_section1_chord = 0.150\n",
    "vt_section1_angle = 0.0\n",
    "\n",
    "vt_section1_airfoil = avl.NacaAirfoil('0010')\n",
    "\n",
    "# Define Rudder\n",
    "rud_cgain = 1.0 # No mixing of controls\n",
    "rud_xhinge = 0.67 # Relative location of the hinge\n",
    "rud_sgndup = 1.0 # Duplicate sign, ailerons deflect anti-symmetrically\n",
    "rud_hingevec = avl.Point(0.0, 0.0, 1.0) # Axis which the surface rotates about\n",
    "rud = avl.Control(\n",
    "    name='rudder',\n",
    "    gain=rud_cgain,\n",
    "    x_hinge=rud_xhinge,\n",
    "    duplicate_sign=rud_sgndup,\n",
    "    hinge_vector=rud_hingevec\n",
    ")\n",
    "\n",
    "# Now put together the section\n",
    "vt_section1 = avl.Section(\n",
    "    leading_edge_point= vt_section1_leading_edge,\n",
    "    chord=vt_section1_chord,\n",
    "    airfoil=vt_section1_airfoil,\n",
    "    controls=[rud]\n",
    ")\n",
    "\n",
    "# Section 2 of V-Stab (Upper)\n",
    "vt_section2_leading_edge = avl.Point(0.070, 0.0, 0.300)\n",
    "vt_section2_chord = 0.080\n",
    "vt_section2_angle = 0.0\n",
    "\n",
    "vt_section2_airfoil = avl.NacaAirfoil('0010')\n",
    "\n",
    "vt_section2 = avl.Section(\n",
    "    leading_edge_point=vt_section2_leading_edge,\n",
    "    chord=vt_section2_chord,\n",
    "    airfoil=vt_section2_airfoil,\n",
    "    controls=[rud]\n",
    ")\n",
    "\n",
    "# Assemble VT\n",
    "vt = avl.Surface(\n",
    "    name='vertial_tail',\n",
    "    n_chordwise=vt_Nchord,\n",
    "    chord_spacing=vt_Cspace,\n",
    "    n_spanwise=vt_Nspan,\n",
    "    span_spacing=vt_Sspace,\n",
    "    y_duplicate=vt_y_duplicate,\n",
    "    sections=[vt_section1, vt_section2],\n",
    "    translation=vt_translate_bias, \n",
    ")\n",
    "\n"
   ]
  },
  {
   "cell_type": "markdown",
   "metadata": {},
   "source": [
    "<h1> Final Geometry Object Creation </h1>\n",
    "We finally generate the geometry object, then start an AVL session to view the object. We also output this geometry object as a .AVL input file"
   ]
  },
  {
   "cell_type": "code",
   "execution_count": 34,
   "metadata": {},
   "outputs": [
    {
     "data": {
      "image/png": "[encoded data removed]",
      "image/svg+xml": "<?xml version=\"1.0\" encoding=\"utf-8\" standalone=\"no\"?>\r\n<!DOCTYPE svg PUBLIC \"-//W3C//DTD SVG 1.1//EN\"\r\n  \"http://www.w3.org/Graphics/SVG/1.1/DTD/svg11.dtd\">\r\n<!-- Created with matplotlib (https://matplotlib.org/) -->\r\n<svg height=\"231.84pt\" version=\"1.1\" viewBox=\"0 0 295.792941 231.84\" width=\"295.792941pt\" xmlns=\"http://www.w3.org/2000/svg\" xmlns:xlink=\"http://www.w3.org/1999/xlink\">\r\n <defs>\r\n  <style type=\"text/css\">\r\n*{stroke-linecap:butt;stroke-linejoin:round;}\r\n  </style>\r\n </defs>\r\n <g id=\"figure_1\">\r\n  <g id=\"patch_1\">\r\n   <path d=\"M 0 231.84 \r\nL 295.792941 231.84 \r\nL 295.792941 0 \r\nL 0 0 \r\nz\r\n\" style=\"fill:none;\"/>\r\n  </g>\r\n  <g id=\"axes_1\">\r\n   <g clip-path=\"url(#p31a9dd9e27)\">\r\n    <image height=\"218\" id=\"imagea9e207d258\" transform=\"scale(1 -1)translate(0 -218)\" width=\"282\" x=\"7.2\" xlink:href=\"data:image/png;base64,\r\niVBORw0KGgoAAAANSUhEUgAAARoAAADaCAYAAAB5LI26AAAABHNCSVQICAgIfAhkiAAADq9JREFUeJzt3euS4yYQhuEmlfve7JWTH2NpGmhOkpAFep/U1sxo5MMm9pcGWth5770AwED/fPsJAFgfQQNgOIIGwHAEDYDhCBoAw/377SdwlHMu+JnFM+C5qhWNcy55U585r+V+Wnjvgz89ty095hV/BwChYtBsbzqrWrDenFdUFS33kQuDq6saQge4RjFodLVg/a7lvB5xVZT7PvdYVjDkKi193HtPqAADuRU7g51zp4Jvu/3Z+wHwY8mgAfAsLG8DGI6gATAcQQNguOry9rYa07oq03s+gPUVO4PjJWyrXybXQ8McM4DN0FUnlocBiAyeo6ERDityf93+dfseZcMng6losBr/xwdfUdc0dLKqktrN6K4FsGladdqCouWapnhymJDBqhg2tasOnazAKIWHtSIFrEKHC0OndlzrBDRwfx3BcgKdwUAG1ct1CBpAIVzGIGjweoTLeAQNXideLSJcxiNo8ApULd9F0GBpW8AQLt/F8vaFKMmfgaXo56GiOcG6qM7/8bzIv4Ch0bNR0WBaVC7zoKLBVKhc5kTQYApM6s6NoMFjUb2sg6DBY7Bqty6CBl9F1fIOBA1uR7i8D0GD2zCh+14EDbptjYr60wBK524ImPe6PGicuOBrfBzr8H+82TRHuCDW1RnsxIkXXz2Wu62INJ2LOeiQoUsXJYcrGvf5J/4+d27udpgb8y5o0VzRtFYuWB/VC3oNuaiSUFoLVQvOGhY0IszHzIyqBVdieftCrUu+T8VqEUYhaC422wfAEy64w7CgYdj0bMy74E7ssPcizLvgWwiaxREuz+acPZfnxf+s3i7y9iRogBPioChOGXiRpEc1PqZ/Vt/PHjpMBi9ixlWumTjnfkLFyW8QuJ9g8d6HAePVn/h+rG74+Dzjdl68iMtXQE9Hw97EmNAdZ3tD76/juNKQhp/1sdxx67ZGlsxe0TB0mgxzLtdzzqUViZNyMEj7OUlIWCETB47MHy4aQ6cJ0OtyjdLwZxvqOHFpgGxq/+ozvw9CLBcyn+fkfp6QiJdlQkaEiuaxqFyOs4Y9e9US/yu1QsWqTErn6hyxHieuWNT3K1UtJVQ0D0Ll0i+pUOQzQauqlO1Y/k6in3OnNqwa6dBIJm4/IbNXVotVLSUEzZcRLn32N+/ny/ZGre5tZMyB7MdzAZI7v+WY+zw3FS576Hn/moDZEDRfwopRn2Q4JBIMcfY39efnIChqxyUKqo6Voj34rFUpdb9vC5YYczQ3IVj6OeeCquDnoKRv/tLP+rgUftd6vPR4qnrhbRUiaAZjUrdPEi4tQdITFL3H4wnbzJL2WyZ1j2LodDE+1rXfPqErklYw8fyHV7eJjsXDoeI8S+txn5lI3oZNCy5Fj0DQXIAJ3X5JuGiZcKmu7sRzMPHtM8eT1SFrcvdz230uh3DpwtDpjP0Fzr/CVkmfydGhUU+vS+v9FprpGBqdQ0XTKRgaeR+EDBc2puI+lyPVS/bYgeolOZb5T6aXo6leziNoGrQOjfTv3h46W8B479Mhyplwkcq5veGiftafOUawXIugyTg77/K20Mk10u3iSdUT4RJUG61VTkPl8sZGursQNMqoSd3SZ1PPTIeL+QaND1lv+AOViw4sJy49L/dYn/N0cx7Bco/XTwbTSNev1khXvbBQ7ONBo1vPpHDpGBO6j/DaikYHzBNCxqpy9LFvV0FJ9ZILDlHzMk7CeZn9zvTJv8eCEOgdWrEc/WivCZqnN9JZczrffo5HGumSZrftdicnepMGvfg+1W0Jl+dZeui0Qvv/3aGTXKfT0OdiXtvT08+SO157bIZF01iuolmtS/eO1SuzctmfgFSrET2v0jxUUseLq0i5pWjnqFwmskxFs0L10uqKv2uwT64xoRv/bE4AG+cdPl6qXraw8ZnqCY83dUWzWvXS6kyVYzXS/d6x1Cdqj86v9DbSBXcZ9rpgPtMFzVvDJacWOtkd6e7o0t0OWd3B1mMHd0mvy0qmGDq9aVh0hW1YtLfTf3pacsOf7MbdIsVl7KZz6XOBPLSiefpS9BNZXbrBfrqFqiMeRpl7vajzg9/T54IGU1Q0yOvZkS7Yd/foJG3vuVQvkAdUNN/ueL3aHX+fozvS7RcNqmPZneriY7nj1oQu1QsiXwmaVSZ03V+3/xn+WMaOdD0Tulavi75a2Tn196isFhUndL0KFMIFH7cNnZjQ7dezG12tz8UcqhjHdQglz6WhYzh3e7zb0KAhXPr0NtF1H+s8noSGNd8iRggBkcNDp9yVxasMi+6it7rsaaK7cm5lvwQgGgF67yW39wt9LuhxWUVD9dInt6dL8TOEeo5Fx4tDK+s+4tuqXhz5j/+JoM+pyWCqlz4te7oke7LE88y16iVzbnwJQe0jRpKd67ab+3T/ntVWDnG9rqChka5fMVwaVot6GunCBy7fr94nJgmd6La1orfl2qu7VufwTNWgoWrp1xMu5p63mRAJhlRaKaC2u7e2YlBVylVL0W/blB1tzKAhXPolPSeNlUvxqujc8QNNdMES9k19LvFrx//xhM9LmUFDuLRLtl2IV4+i6qH1WHzVtTkBHB1PNp2Kz9l/7fcK564VI15T78a1Tgdc+rGurb0upcDJNM7pYdsTG+lYqXwPgqbBVxvpzCdUeOxJG+kInbV9/aLKpzrUSHf1/Ip1nnosa7Vo1kY6JpHXRtAoyWpRrvLYbOFSmnNpOW6tQunjmRAK9pv5nDdTuOQQOushaETNX0TJkrTme7EnWjOTusmEruTP/f21T8/V5+kceuC8y9UInTW8Nmhael2aNuR2meOiQqN3OTo+pm67WvXSozd0CKbneF3QBP0ujb0uyTF93Iu4/1Rfin5xtwYJ4dItFzqEyzO9JmiCfhcJ+16y/Se5Y4Vz9zdAYyNdMqH7ea6ES7vcahWrWM+x/PJ2sMRbWkK+Yim65T5yP/csb6MJS+bPsXRFE/S/xL0mwYmSvPmDa4P0eZKee6ZL14mzHwunbSHDcOr7lq9oAp/5jmyFc3XTnRVuumsXt6PK+Y71KhpdYRjzKsGH2Oeqjeg28X2ZV1xv55YmdLdFKELma1gu/45lgmab7A0a3mpDn0pDnHmOGMvWmdcrE7rPRujcZ42gsVaTxGiYqwVMfDvrnO1YbSlaCJeZ9OwauP2OzbzaTT1HE1xF3bJ6c2ROpjbvsi1TC/MuK6rN6TDn02bqisZ7HwxP9q/WqpI+pzYn01u9MDRalv/j9wrX6nlCm+mCJt7JznyD1wKltMy9/d54TdFI927xB+1RzbSbK2i2uZjcJG8stwStf2+tJsXnq9UiwuV9ap/aSaVTN80cjdl70tvpa/0urmLoc0EPPT/HXF3WNBVNc8hUhj/m73zYCcwLBT1yrxcqnV9TBE3wH6w0kSuf4U+pP8YZ5wvhgjozOKKXjX4d7RuTEThzBI25GVTuXOuq7I0aGlG9oEfTvEzmpaQveXlr383jg8bcpS6+xCBTsejLDQgXXOnQa8gfawysnTeDOSaDrSa5zDn6iu27JuZY5sQVVn4dPbqiSbZaSE5QX/UErxf6XDCdla+9mqKiCTYPj6oWESZ08XxHWya2wJm90pkiaLRvDI2ATTUwSv1bL/booZNlX1ViaISbxZX0dix/g8FPaCLTBQ3wJPzPrg1BAzRq+vRSmAga4ErxlTJ0BYsIQQMMxVXePwga4KzGaZo3z+cQNECH5COV0YSgAU4oDofeW8Ak/v32EwCm5SXpq4GNoAE6zDzPEldfd/5dCBpgoKu2hQ0+Wij5pXEs/oggiT740P0ev+NSHuZogCNyn6ARCTa96lje3iedt5DIBUG0Y8H+Z/udi44lN7/nekGCBuhVy4ta6ORupsLF7EK29sGubaFi7OO0bwJ34/WCBM0FVtoJDXXmx/Kcub9oG5RkbyXNGBLFx/RuksHHCX2Of2OeiaC52Oz7hqCRtfF9B71FbfZDENXQ6feGxjnxTbdN0eU5H3g43X40wJM0f95Y9PlP2a1pM7ctVjItW91+GRUNcELxI5klnAAuVi7xbUuVSzxUCnbkrz3j7yBogANKK0jNwyL9sxjHcj/rcJlkAziCBrhAvBydOBkuzj1nvuUIggY4YQuYYItZ3RgnYs+p5D5NNbNa5L2fLlw0ggbosAfLJxGa+l18NNSKl7D3O//9OnP1YiFogIpqI91+ovo+ChLdIZw7Z7Vw0QgawJBM6JYa53K8hPvXJA+ydrhoBA3w0b1a1GDv9nXRhO7n/lYOF42gwesFlwD8fFOfrBVJl7grmTH7hO4ZBA1eyapeksa32nI0mhE0eI3a0Gi/PGA717reSAWQPj99sGue8yoIGiztaJduMIwqdem2joTeOWLaETRYjl7paQ4Xa5+XlksAkgfvf75vQNBgGfukrvf1OZbCJG9wLBo6Vfd0eXnlkkPQYBnxnIkT4/qjA5O8pV6X6vacBI+IEDRYjZ6sVTvWJZcAlC6AFHX+0V4XAiZA0GAd8ZBHVSvJJQDJXlUnGumYl6kiaLCEYDlaJAySTAOeDpejjXTFa5+wI2iwFHM1aKtuoh6Zu7t0ez5uZTXsGYw1RGES76F71Qe54RgqGqxhn4L5bdDTHzsyMmTeXKm0ImiwlGCnuy9UMISOjaABLmSGG9lD0ABnFS+ulMLlCi9C0ACj6MbBlyNogCuQJUUEDXCheDKYyeEfBA1wIT0ZvH/W9vbzi0OHhj3gBm9vGKSiAW7w5pARIWgA3ICgATAcQQNgOIIGwHAEDYDhCBoAwxE0AIYjaAAMR9AAGI6gATAcQQNgOIIGwHAEDYDhCBoAwxE0AIYjaAAMR9AAGI6gATAcQQNgOIIGwHAEDYDhCBoAwxE0AIYjaAAMR9AAGI6gATAcQQNgOIIGwHAEDYDhCBoAwxE0AIYjaAAMR9AAGI6gATAcQQNgOIIGwHAEDYDhCBoAwxE0AIYjaAAMR9AAGI6gATAcQQNgOIIGwHAEDYDhCBoAwxE0AIYjaAAMR9AAGI6gATAcQQNgOIIGwHAEDYDh/gdL3EDn/r72YAAAAABJRU5ErkJggg==\" y=\"-6.64\"/>\r\n   </g>\r\n  </g>\r\n </g>\r\n <defs>\r\n  <clipPath id=\"p31a9dd9e27\">\r\n   <rect height=\"217.44\" width=\"281.392941\" x=\"7.2\" y=\"7.2\"/>\r\n  </clipPath>\r\n </defs>\r\n</svg>\r\n",
      "text/plain": "<Figure size 432x288 with 1 Axes>"
     },
     "metadata": {
      "needs_background": "light"
     },
     "output_type": "display_data"
    }
   ],
   "source": [
    "# make geometry final object\n",
    "aircraft = avl.Geometry(\n",
    "    name='bens_aircraft',\n",
    "    reference_area=S_ref,\n",
    "    reference_chord=C_ref,\n",
    "    reference_span=B_ref,\n",
    "    reference_point=moment_ref_pt,\n",
    "    mach=mach_number,\n",
    "    surfaces=[wing, ht, vt]\n",
    ")\n",
    "\n",
    "# Plot Geometry\n",
    "# create a session with only the geometry\n",
    "session = avl.Session(geometry=aircraft)\n",
    "\n",
    "# check if we have ghostscript (to show the image inline the notebook)\n",
    "if 'gs_bin' in session.config.settings:\n",
    "    img = session.save_geometry_plot()[0]\n",
    "    avl.show_image(img)\n",
    "else:\n",
    "    session.show_geometry()\n",
    "# Show Geometry using AVL as well\n",
    "session.show_geometry()\n",
    "# output the Geometry file\n",
    "target_dir = os.getcwd()\n",
    "session._write_geometry(target_dir)\n"
   ]
  },
  {
   "cell_type": "markdown",
   "metadata": {},
   "source": [
    "<h1> Case Analysis </h1>\n",
    "In this section we will define the run case files (.run), using mass input files (.mass), and generating some calculations"
   ]
  },
  {
   "cell_type": "code",
   "execution_count": 47,
   "metadata": {},
   "outputs": [],
   "source": [
    "# create a function for showing the Trefftz plot, since we'll be using it more often\n",
    "def show_treffz(session):\n",
    "    for idx, _ in enumerate(session.cases):\n",
    "        session.show_trefftz_plot(idx+1) # cases start from 1\n",
    "\n",
    "\n",
    "\n",
    "# Case 1: Trim Pitch Moment to 0 using Elevator (bensAirplane_run1)\n",
    "trim_param = avl.Parameter(name='elevator', setting='Cm', value= 0.0)\n",
    "alpha = 10.0\n",
    "trim_case1= avl.Case(\n",
    "    name='trim_elevator_cm',\n",
    "    alpha=alpha,\n",
    "    elevator=trim_param)\n",
    "\n",
    "# Case 2: Landing Configuration\n",
    "# For landing we want to trim with a very high Cl\n",
    "# So we change alpha to achieve a Cl of 1.2\n",
    "cl = 1.2\n",
    "cl_param = avl.Parameter(name='alpha', setting='CL', value=cl)\n",
    "# Lets also say the flaps should be 20 degrees\n",
    "flaps_deg = 20.0 # degrees\n",
    "trim_case2 = avl.Case(\n",
    "    name='landingConfig',\n",
    "    alpha=cl_param,\n",
    "    flap=flaps_deg,\n",
    "    elevator=trim_param)\n",
    "\n",
    "# Case 3: Banked Flight\n",
    "cl = 0.4\n",
    "beta = 0\n",
    "bank_angle = 20.0 # Degrees\n",
    "cm = 0.0\n",
    "cm_param = avl.Parameter(name='elevator', setting='Cm', value=cm)\n",
    "cl_param = avl.Parameter(name='alpha', setting='CL', value=cl)\n",
    "trim_case3 = avl.Case(\n",
    "    name='bankedFlight',\n",
    "    alpha = cl_param,\n",
    "    beta = beta,\n",
    "    bank = bank_angle,\n",
    "    elevator = cm_param)\n",
    "\n",
    "\n",
    "\n"
   ]
  },
  {
   "cell_type": "markdown",
   "metadata": {},
   "source": [
    "<h2> Start an AVL session with our geometry and run cases</h2>\n",
    "\n",
    "We'll plot the treffz diagrams as well as export the results into a JSON file"
   ]
  },
  {
   "cell_type": "code",
   "execution_count": 64,
   "metadata": {},
   "outputs": [
    {
     "name": "stdout",
     "output_type": "stream",
     "text": "Case 1 CL = 0.78959\nCase 2 CL = 1.2\nCase 3 CL = 0.4\nInput files written to: c:\\Users\\brian\\Documents\\AeroEngrX\\AVL_Tutorial\\bens_aircraft\nc:\\Users\\brian\\Documents\\AeroEngrX\\AVL_Tutorial\\bens_aircraft\\results.json\n"
    }
   ],
   "source": [
    "session = avl.Session(geometry=aircraft, cases=[trim_case1, trim_case2, trim_case3])\n",
    "\n",
    "show_treffz(session)\n",
    "\n",
    "# results are in a dictionary\n",
    "result = session.run_all_cases()\n",
    "\n",
    "# Print some data from the dictionary\n",
    "print(\"Case 1 CL = {}\".format(result['trim_elevator_cm']['Totals']['CLtot']))\n",
    "print(\"Case 2 CL = {}\".format(result['landingConfig']['Totals']['CLtot']))\n",
    "print(\"Case 3 CL = {}\".format(result['bankedFlight']['Totals']['CLtot']))\n",
    "# Will export geometry and run files from the session (Generates them under the bens_aircraft folder)\n",
    "session.export_run_files() \n",
    "\n",
    "# Write results to a JSON file\n",
    "dir_name = os.getcwd()\n",
    "output_filename = \"results.json\"\n",
    "aircraft_name = \"bens_aircraft\"\n",
    "target_file = os.path.join(dir_name, aircraft_name)\n",
    "target_file = os.path.join(target_file, output_filename)\n",
    "print(target_file)\n",
    "with open(target_file, 'w') as f:\n",
    "    f.write(json.dumps(result))\n"
   ]
  },
  {
   "cell_type": "markdown",
   "metadata": {},
   "source": [
    "<h2> Transition into using AVL for furthur analysis </h2>\n",
    "\n",
    "Currently, AVLWrapper does not support mass input files, eigenmode analysis, or time domain analysis. For mass definition it's possible to define such information in the case object itself, or a mass definition file can be written manually as followed by the tutorial. \n",
    "\n",
    "An input sequence file is generated to ease the workflow, the list of commands can be copy and pasted into the AVL terminal as necessary\n"
   ]
  },
  {
   "cell_type": "code",
   "execution_count": 66,
   "metadata": {},
   "outputs": [
    {
     "name": "stdout",
     "output_type": "stream",
     "text": "c:\\Users\\brian\\Documents\\AeroEngrX\\AVL_Tutorial\\bens_aircraft\\InputSequence.txt\n"
    }
   ],
   "source": [
    "\n",
    "dir_name = os.getcwd()\n",
    "output_filename = \"InputSequence.txt\"\n",
    "aircraft_name = \"bens_aircraft\"\n",
    "\n",
    "target_file = os.path.join(dir_name, aircraft_name)\n",
    "target_file = os.path.join(target_file, output_filename)\n",
    "print(target_file)\n",
    "\n",
    "\n",
    "commands = [] # Python list\n",
    "commands.append(\"load\")\n",
    "commands.append(\"case\")\n",
    "commands.append(\"mass\")\n",
    "commands.append(\"mset\") # To Apply the Mass file data to the run case\n",
    "commands.append(\"oper\") # To change to the operating menu\n",
    "commands.append(\"m\") # To check if the mass file was applied correctly we can type m check or modify the parameters\n",
    "\n",
    "with open(target_file, \"w\") as output:\n",
    "    for cmd in commands:\n",
    "        # If the command is one of the following, append on the file name\n",
    "        if cmd == \"load\" or cmd == \"case\" or cmd == \"mass\":\n",
    "            output.write(cmd + \" \" + aircraft_name + '\\n')\n",
    "        else:\n",
    "            # Otherwise write the command directly\n",
    "            output.write(cmd + '\\n')"
   ]
  },
  {
   "cell_type": "code",
   "execution_count": null,
   "metadata": {},
   "outputs": [],
   "source": []
  }
 ]
}